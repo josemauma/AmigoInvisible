{
 "cells": [
  {
   "cell_type": "code",
   "execution_count": 1,
   "metadata": {},
   "outputs": [],
   "source": [
    "import random\n",
    "import smtplib\n",
    "import pandas as pd\n",
    "from email.mime.multipart import MIMEMultipart\n",
    "from email.mime.text import MIMEText\n",
    "\n",
    "# Se importan las siguientes librerías:\n",
    "# - `random`: para aleatorizar la asignación de amigos invisibles.\n",
    "# - `smtplib`: para enviar correos electrónicos a través del protocolo SMTP.\n",
    "# - `pandas`: para manejar el archivo de participantes en formato CSV.\n",
    "# - `email.mime`: para crear mensajes de correo en formato multipart."
   ]
  },
  {
   "cell_type": "code",
   "execution_count": null,
   "metadata": {},
   "outputs": [],
   "source": [
    "# Carga de variables de entorno desde archivo .env\n",
    "from dotenv import load_dotenv\n",
    "import os\n",
    "\n",
    "load_dotenv('Information.env')  # Carga las variables del archivo .env\n",
    "\n",
    "email_remitente = os.getenv('EMAIL_REMITENTE')\n",
    "contrasena_remitente = os.getenv('CONTRASENA_REMITENTE')\n",
    "\n",
    "# Esta sección permite:\n",
    "# - Cargar el correo y la contraseña del remitente desde un archivo `.env`.\n",
    "# - Utiliza `os.getenv` para recuperar estas credenciales, que se usarán al enviar correos."
   ]
  },
  {
   "cell_type": "code",
   "execution_count": 3,
   "metadata": {},
   "outputs": [],
   "source": [
    "# Función para asignar amigos invisibles\n",
    "def asignar_amigos(participantes):\n",
    "    nombres = list(participantes.keys())\n",
    "    asignados = nombres[:]\n",
    "    random.shuffle(asignados)\n",
    "    \n",
    "    resultado = {}\n",
    "    for nombre in nombres:\n",
    "        while asignados[0] == nombre:\n",
    "            random.shuffle(asignados)\n",
    "        resultado[nombre] = asignados.pop(0)\n",
    "    \n",
    "    return resultado\n",
    "\n",
    "# Descripción:\n",
    "# - Esta función toma un diccionario `participantes` (nombre: email) y asigna a cada participante un amigo invisible.\n",
    "# - La asignación es aleatoria, y se asegura que ningún participante se asigne a sí mismo.\n",
    "# - Devuelve un diccionario con las asignaciones."
   ]
  },
  {
   "cell_type": "code",
   "execution_count": null,
   "metadata": {},
   "outputs": [],
   "source": [
    "# Función para enviar correos electrónicos con las asignaciones\n",
    "def enviar_correos(asignaciones, participantes, email_remitente, password_remitente):\n",
    "    servidor = smtplib.SMTP('smtp.gmail.com', 587)\n",
    "    servidor.starttls()\n",
    "    servidor.login(email_remitente, password_remitente)\n",
    "    \n",
    "    for remitente, destinatario in asignaciones.items():\n",
    "        correo = participantes[remitente]\n",
    "        amigo_invisible = destinatario\n",
    "        \n",
    "        mensaje = MIMEMultipart()\n",
    "        mensaje['From'] = email_remitente\n",
    "        mensaje['To'] = correo\n",
    "        mensaje['Subject'] = 'Amigo Invisible'\n",
    "        \n",
    "        cuerpo = f\"\"\"🎉✨ ¡Hola, {remitente}! ✨🎉\n",
    "\n",
    "🎩 ¡El gran momento ha llegado! 🎩\n",
    "\n",
    "🎁 Tu AMIGO INVISIBLE es... 🎁\n",
    "\n",
    "🎊 🎈 🎉 {amigo_invisible} 🎉 🎈 🎊\n",
    "\n",
    "🤫 ¡Recuerda mantener el secreto! 🎁\n",
    "\n",
    "\"\"\"\n",
    "\n",
    "        mensaje.attach(MIMEText(cuerpo, 'plain'))\n",
    "        \n",
    "        servidor.send_message(mensaje)\n",
    "        \n",
    "    servidor.quit()\n",
    "\n",
    "# Descripción:\n",
    "# - Esta función envía un correo a cada participante con la asignación de su amigo invisible.\n",
    "# - Configura el servidor SMTP, crea el mensaje personalizado para cada participante y lo envía.\n",
    "# - Finalmente, cierra la conexión con el servidor de correo.\n"
   ]
  },
  {
   "cell_type": "code",
   "execution_count": 5,
   "metadata": {},
   "outputs": [],
   "source": [
    "# Función para imprimir en consola las asignaciones de amigos invisibles\n",
    "def imprimir_asignaciones(asignaciones):\n",
    "    print(\"Asignaciones de Amigos Invisibles:\")\n",
    "    for remitente, destinatario in asignaciones.items():\n",
    "        print(f'{remitente} -> {destinatario}')\n",
    "\n",
    "# Descripción:\n",
    "# - Esta función imprime en consola las asignaciones de amigo invisible para cada participante.\n",
    "# - Es útil para revisión rápida sin necesidad de enviar correos electrónicos.\n"
   ]
  },
  {
   "cell_type": "code",
   "execution_count": null,
   "metadata": {},
   "outputs": [],
   "source": [
    "# Función principal que coordina la ejecución\n",
    "def main():\n",
    "    # Diccionario de participantes: 'nombre': 'correo'\n",
    "    df_participantes = pd.read_csv('Name_Email.csv')\n",
    "    participantes = dict(zip(df_participantes['Name'], df_participantes['Email']))\n",
    "    \n",
    "    # Asignar amigos invisibles\n",
    "    asignaciones = asignar_amigos(participantes)\n",
    "    \n",
    "    #Imprimir las asignaciones\n",
    "    #imprimir_asignaciones(asignaciones)\n",
    "    \n",
    "    #Enviar correos con las asignaciones\n",
    "    enviar_correos(asignaciones, participantes, email_remitente, contrasena_remitente)\n",
    "\n",
    "# Ejecutar el main\n",
    "main()\n",
    "\n",
    "# Descripción:\n",
    "# - La función `main` es la función principal que organiza el flujo del programa.\n",
    "# - Carga los participantes desde un archivo CSV (`Name_Email.csv`), realiza las asignaciones,\n",
    "#   imprime las asignaciones y finalmente envía los correos con cada asignación.\n"
   ]
  }
 ],
 "metadata": {
  "kernelspec": {
   "display_name": "base",
   "language": "python",
   "name": "python3"
  },
  "language_info": {
   "codemirror_mode": {
    "name": "ipython",
    "version": 3
   },
   "file_extension": ".py",
   "mimetype": "text/x-python",
   "name": "python",
   "nbconvert_exporter": "python",
   "pygments_lexer": "ipython3",
   "version": "3.12.4"
  }
 },
 "nbformat": 4,
 "nbformat_minor": 2
}
